
{
 "cells": [
  {
   "cell_type": "markdown",
   "metadata": {},
   "source": [
    "## Send Mail with Local Outlook"
   ]
  },
  {
   "cell_type": "code",
   "execution_count": null,
   "metadata": {},
   "outputs": [],
   "source": [
    "import win32com.client as win32\n",
    "\n",
    "def sendMail(to,subject,body,attach_path=None):\n",
    "    try:\n",
    "        outlook = win32.Dispatch('outlook.application')\n",
    "        mail = outlook.CreateItem(0)\n",
    "        mail.To = to\n",
    "        mail.Subject = subject\n",
    "        mail.Body = body\n",
    "    #     mail.HTMLBody = '<h2>HTML Message body</h2>' #this field is optional\n",
    "\n",
    "        # To attach a file to the email (optional):\n",
    "        if attach_path != None:\n",
    "            attachment  = attach_path\n",
    "            mail.Attachments.Add(attachment)\n",
    "\n",
    "        return mail.Send()##Sadly return None\n",
    "    except:\n",
    "        return False\n"
   ]
  },
  {
   "cell_type": "markdown",
   "metadata": {},
   "source": [
    "## Get mails from inbox / a specific folder"
   ]
  },
  {
   "cell_type": "code",
   "execution_count": null,
   "metadata": {},
   "outputs": [],
   "source": [
    "import win32com.client\n",
    "\n",
    "outlook = win32com.client.Dispatch(\"Outlook.Application\").GetNamespace(\"MAPI\")\n",
    "\n",
    "# inbox = outlook.GetDefaultFolder(6).Folders.Item(\"SubFolderName\") ##Read from a particular subfolder\n",
    "inbox = outlook.GetDefaultFolder(6)#Inbox\n",
    "messages = inbox.Items\n",
    "all_mails = []\n",
    "for mail in messages:\n",
    "    all_mails.append(mail)\n",
    "all_mails"
   ]
  },
  {
   "cell_type": "markdown",
   "metadata": {},
   "source": [
    "## Save mails to local folder in .msg format"
   ]
  },
  {
   "cell_type": "code",
   "execution_count": null,
   "metadata": {},
   "outputs": [],
   "source": [
    "import os\n",
    "import re\n",
    "\n",
    "for message in all_mails:\n",
    "    name = str(message.subject)\n",
    "    name = name+'.msg'\n",
    "    message.SaveAs(os.getcwd()+'//SavedMails//'+name)"
   ]
  },
  {
   "cell_type": "markdown",
   "metadata": {},
   "source": [
    "## Certification Mail Extraction"
   ]
  },
  {
   "cell_type": "code",
   "execution_count": null,
   "metadata": {},
   "outputs": [],
   "source": [
    "def getCertificationMails():\n",
    "    external_cert_approved = 'External certification result is approved by'\n",
    "    cert_mail_subjects = []\n",
    "    cert_mail_path = []\n",
    "    for mail in all_mails:\n",
    "        if external_cert_approved in mail.subject:\n",
    "            name = str(mail.subject)\n",
    "            cert_mail_subjects.append(name)\n",
    "            name = name+'.msg'\n",
    "            message.SaveAs(os.getcwd()+'//SavedMails//'+name)\n",
    "            cert_mail_path.append(os.getcwd()+'//SavedMails//'+name)\n",
    "    return cert_mail_subjects,cert_mail_path"
   ]
  },
  {
   "cell_type": "markdown",
   "metadata": {},
   "source": [
    "## Appreciation Mail Extraction"
   ]
  },
  {
   "cell_type": "code",
   "execution_count": null,
   "metadata": {},
   "outputs": [],
   "source": [
    "def getAppreciationMails():\n",
    "    appreciation = ['Good','Excellent','Brilliant','Amazing','Wonderful','Great']\n",
    "    appr_mail_subjects = []\n",
    "    appr_mail_path = []\n",
    "    for mail in all_mails:    \n",
    "        if any(appr in mail.subject for appr in appreciation):\n",
    "            appr_mail_subjects.append(mail.subject)\n",
    "            print(mail.subject)\n",
    "            name = str(mail.subject)\n",
    "            name = name+'.msg'\n",
    "            appr_mail_path.append(os.getcwd()+'//SavedMails//'+name)\n",
    "            message.SaveAs(os.getcwd()+'//SavedMails//'+name)\n",
    "    return appr_mail_subjects,appr_mail_path\n"
   ]
  }
 ],
 "metadata": {
  "kernelspec": {
   "display_name": "Python 3",
   "language": "python",
   "name": "python3"
  },
  "language_info": {
   "codemirror_mode": {
    "name": "ipython",
    "version": 3
   },
   "file_extension": ".py",
   "mimetype": "text/x-python",
   "name": "python",
   "nbconvert_exporter": "python",
   "pygments_lexer": "ipython3",
   "version": "3.7.6"
  }
 },
 "nbformat": 4,
 "nbformat_minor": 4
}
