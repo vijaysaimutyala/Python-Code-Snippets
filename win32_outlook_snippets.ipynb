{
 "cells": [
  {
   "cell_type": "markdown",
   "metadata": {},
   "source": [
    "## Send Mail with Local Outlook"
   ]
  },
  {
   "cell_type": "code",
   "execution_count": null,
   "metadata": {},
   "outputs": [],
   "source": [
    "import win32com.client as win32\n",
    "\n",
    "def sendMail(to,subject,body,attach_path=None):\n",
    "    try:\n",
    "        outlook = win32.Dispatch('outlook.application')\n",
    "        mail = outlook.CreateItem(0)\n",
    "        mail.To = to\n",
    "        mail.Subject = subject\n",
    "        mail.Body = body\n",
    "    #     mail.HTMLBody = '<h2>HTML Message body</h2>' #this field is optional\n",
    "\n",
    "        # To attach a file to the email (optional):\n",
    "        if attach_path != None:\n",
    "            attachment  = attach_path\n",
    "            mail.Attachments.Add(attachment)\n",
    "\n",
    "        return mail.Send()##Sadly return None\n",
    "    except:\n",
    "        return False\n"
   ]
  },
  {
   "cell_type": "markdown",
   "metadata": {},
   "source": [
    "## Get mails from inbox / a specific folder"
   ]
  },
  {
   "cell_type": "code",
   "execution_count": null,
   "metadata": {},
   "outputs": [],
   "source": [
    "import win32com.client\n",
    "\n",
    "outlook = win32com.client.Dispatch(\"Outlook.Application\").GetNamespace(\"MAPI\")\n",
    "\n",
    "# inbox = outlook.GetDefaultFolder(6).Folders.Item(\"SubFolderName\") ##Read from a particular subfolder\n",
    "inbox = outlook.GetDefaultFolder(6)#Inbox\n",
    "messages = inbox.Items\n",
    "all_mails = []\n",
    "for mail in messages:\n",
    "    all_mails.append(mail)\n",
    "all_mails"
   ]
  },
  {
   "cell_type": "markdown",
   "metadata": {},
   "source": [
    "## Save mails to local folder in .msg format"
   ]
  },
  {
   "cell_type": "code",
   "execution_count": null,
   "metadata": {},
   "outputs": [],
   "source": [
    "import os\n",
    "import re\n",
    "\n",
    "for message in all_mails:\n",
    "    name = str(message.subject)\n",
    "    name = name+'.msg'\n",
    "    message.SaveAs(os.getcwd()+'//SavedMails//'+name)"
   ]
  }
 ],
 "metadata": {
  "kernelspec": {
   "display_name": "Python 3",
   "language": "python",
   "name": "python3"
  },
  "language_info": {
   "codemirror_mode": {
    "name": "ipython",
    "version": 3
   },
   "file_extension": ".py",
   "mimetype": "text/x-python",
   "name": "python",
   "nbconvert_exporter": "python",
   "pygments_lexer": "ipython3",
   "version": "3.7.6"
  }
 },
 "nbformat": 4,
 "nbformat_minor": 4
}
